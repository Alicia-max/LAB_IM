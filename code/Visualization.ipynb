{
 "cells": [
  {
   "cell_type": "code",
   "execution_count": 20,
   "id": "53f77aff",
   "metadata": {
    "scrolled": true
   },
   "outputs": [
    {
     "name": "stdout",
     "output_type": "stream",
     "text": [
      "The autoreload extension is already loaded. To reload it, use:\n",
      "  %reload_ext autoreload\n"
     ]
    }
   ],
   "source": [
    "%load_ext autoreload\n",
    "%autoreload 2\n",
    "from plot import *\n",
    "import pandas as pd"
   ]
  },
  {
   "cell_type": "markdown",
   "id": "03522980",
   "metadata": {},
   "source": [
    "Few guidelines : this notebook visualize results from 2 differents PLSC analysis :\n",
    "- model one is sotred in files : **pls_res_Discrete.pkl , perm_res_Discrete.pkl, boot_res_Discrete.pkl**\n",
    "- model two is sotred in files : **pls_res_Appraisal.pkl , perm_res_Appraisal.pkl, boot_res_Appraisal.pkl**\n",
    "        \n",
    "and conducted a thirds PLSC using the **pls_res_Discrete.pkl** and **pls_res_Appraisal.pkl**\n",
    "Finally, it perfoms a cor"
   ]
  },
  {
   "cell_type": "markdown",
   "id": "0f3b1595",
   "metadata": {},
   "source": [
    "# PLS"
   ]
  },
  {
   "cell_type": "markdown",
   "id": "781e27cb",
   "metadata": {},
   "source": [
    "## I-  Discrete & Brain Activity "
   ]
  },
  {
   "cell_type": "code",
   "execution_count": null,
   "id": "dca52003",
   "metadata": {},
   "outputs": [],
   "source": [
    "pls = pd.read_pickle(r\"../pkl/pls_res_Discrete.pkl\")"
   ]
  },
  {
   "cell_type": "code",
   "execution_count": null,
   "id": "dfc34471",
   "metadata": {},
   "outputs": [],
   "source": [
    "perm = pd.read_pickle(r\"../pkl/perm_res_Discrete.pkl\")"
   ]
  },
  {
   "cell_type": "code",
   "execution_count": null,
   "id": "342ae9c4",
   "metadata": {},
   "outputs": [],
   "source": [
    "boot = pd.read_pickle(r\"../pkl/boot_res_Discrete.pkl\")"
   ]
  },
  {
   "cell_type": "code",
   "execution_count": null,
   "id": "b41fd27f",
   "metadata": {},
   "outputs": [],
   "source": [
    "print_var(pls['S'])"
   ]
  },
  {
   "cell_type": "code",
   "execution_count": null,
   "id": "2cac0a6f",
   "metadata": {
    "scrolled": true
   },
   "outputs": [],
   "source": [
    "exp_var(pls['S'], perm['Sp_vect'], perm['P_val'], \"Discrete_Var\")"
   ]
  },
  {
   "cell_type": "code",
   "execution_count": null,
   "id": "aaec034e",
   "metadata": {
    "scrolled": true
   },
   "outputs": [],
   "source": [
    "plot_all(pls, perm, boot,  \"Discrete\",  'yellowgreen', \"seagreen\")"
   ]
  },
  {
   "cell_type": "markdown",
   "id": "11a8f1df",
   "metadata": {},
   "source": [
    "## II- Appraisal & Brain Activity"
   ]
  },
  {
   "cell_type": "code",
   "execution_count": null,
   "id": "b2cb8fc0",
   "metadata": {},
   "outputs": [],
   "source": [
    "pls_app = pd.read_pickle(r\"../pkl/pls_res_Appraisal.pkl\")"
   ]
  },
  {
   "cell_type": "code",
   "execution_count": null,
   "id": "73b68fc2",
   "metadata": {},
   "outputs": [],
   "source": [
    "perm_app = pd.read_pickle(r\"../pkl/perm_res_Appraisal.pkl\")"
   ]
  },
  {
   "cell_type": "code",
   "execution_count": null,
   "id": "ffcb400a",
   "metadata": {},
   "outputs": [],
   "source": [
    "boot_app = pd.read_pickle(r\"../pkl/boot_res_Appraisal.pkl\")"
   ]
  },
  {
   "cell_type": "code",
   "execution_count": null,
   "id": "97d916a9",
   "metadata": {},
   "outputs": [],
   "source": [
    "exp_var(pls_app['S'], perm_app['Sp_vect'], perm_app['P_val'], \"App_Var\")"
   ]
  },
  {
   "cell_type": "code",
   "execution_count": null,
   "id": "567bbe20",
   "metadata": {
    "scrolled": true
   },
   "outputs": [],
   "source": [
    "print_var(pls_app['S'])"
   ]
  },
  {
   "cell_type": "code",
   "execution_count": null,
   "id": "3b63d34b",
   "metadata": {},
   "outputs": [],
   "source": [
    "plot_all(pls_app, perm_app, boot_app,  \"Appraisal\",'lightsteelblue',  'steelblue')"
   ]
  },
  {
   "cell_type": "markdown",
   "id": "d1c2c998",
   "metadata": {},
   "source": [
    "## III- DISCRETE VS APPRAISAL"
   ]
  },
  {
   "cell_type": "code",
   "execution_count": null,
   "id": "b5490380",
   "metadata": {},
   "outputs": [],
   "source": [
    "from Emotions_PLS import*"
   ]
  },
  {
   "cell_type": "code",
   "execution_count": null,
   "id": "07dba8e0",
   "metadata": {
    "scrolled": false
   },
   "outputs": [],
   "source": [
    "main(\"../config/emo.yaml\")"
   ]
  },
  {
   "cell_type": "code",
   "execution_count": null,
   "id": "937aaa86",
   "metadata": {},
   "outputs": [],
   "source": [
    "res=pd.read_pickle(r\"../pkl/Discrete_Appraisal_PLS.pkl\")"
   ]
  },
  {
   "cell_type": "code",
   "execution_count": null,
   "id": "b9eda3ab",
   "metadata": {},
   "outputs": [],
   "source": [
    "print_var(res['S'])"
   ]
  },
  {
   "cell_type": "code",
   "execution_count": null,
   "id": "7ca1aa05",
   "metadata": {
    "scrolled": false
   },
   "outputs": [],
   "source": [
    "exp_var(res['S'], res['Sp_vect'], res['P_val'], \"Appraisal_Discrete\")"
   ]
  },
  {
   "cell_type": "markdown",
   "id": "09197bdb",
   "metadata": {},
   "source": [
    "# Spatial Correlation"
   ]
  },
  {
   "cell_type": "markdown",
   "id": "52b87ab6",
   "metadata": {},
   "source": [
    "## I - Discrete & Appraisal Brain Maps "
   ]
  },
  {
   "cell_type": "code",
   "execution_count": null,
   "id": "6656cd27",
   "metadata": {
    "scrolled": true
   },
   "outputs": [],
   "source": [
    "corr_brain_maps('../Nifti/LV1_Discrete.nii.gz','../Nifti/LV1_Appraisal.nii.gz', 1)"
   ]
  },
  {
   "cell_type": "code",
   "execution_count": 23,
   "id": "2e62fbe4",
   "metadata": {},
   "outputs": [
    {
     "name": "stdout",
     "output_type": "stream",
     "text": [
      "Correlation coefficient for the LV 2: PearsonRResult(statistic=0.5769643360090227, pvalue=0.0)\n"
     ]
    }
   ],
   "source": [
    "corr_brain_maps('../Nifti/LV2_Discrete.nii.gz','../Nifti/LV2_Appraisal.nii.gz', 2)"
   ]
  },
  {
   "cell_type": "code",
   "execution_count": 24,
   "id": "0df62677",
   "metadata": {},
   "outputs": [
    {
     "name": "stdout",
     "output_type": "stream",
     "text": [
      "Correlation coefficient for the LV 3: PearsonRResult(statistic=-0.18477783747716792, pvalue=0.0)\n"
     ]
    }
   ],
   "source": [
    "corr_brain_maps('../Nifti/LV3_Discrete.nii.gz','../Nifti/LV3_Appraisal.nii.gz', 3)"
   ]
  },
  {
   "cell_type": "code",
   "execution_count": 25,
   "id": "c31e22ba",
   "metadata": {},
   "outputs": [
    {
     "name": "stdout",
     "output_type": "stream",
     "text": [
      "Correlation coefficient for the LV 4: PearsonRResult(statistic=0.028217139887181112, pvalue=2.248965643011079e-158)\n"
     ]
    }
   ],
   "source": [
    "corr_brain_maps('../Nifti/LV4_Discrete.nii.gz','../Nifti/LV4_Appraisal.nii.gz', 4)"
   ]
  },
  {
   "cell_type": "code",
   "execution_count": 26,
   "id": "f4e85e46",
   "metadata": {},
   "outputs": [
    {
     "name": "stdout",
     "output_type": "stream",
     "text": [
      "Correlation coefficient for the LV 5: PearsonRResult(statistic=0.12336835180706691, pvalue=0.0)\n"
     ]
    }
   ],
   "source": [
    "corr_brain_maps('../Nifti/LV5_Discrete.nii.gz','../Nifti/LV5_Appraisal.nii.gz', 5)"
   ]
  },
  {
   "cell_type": "code",
   "execution_count": 27,
   "id": "cdaedfde",
   "metadata": {},
   "outputs": [
    {
     "name": "stdout",
     "output_type": "stream",
     "text": [
      "Correlation coefficient for the LV 6: PearsonRResult(statistic=0.12737268697642454, pvalue=0.0)\n"
     ]
    }
   ],
   "source": [
    "corr_brain_maps('../Nifti/LV6_Discrete.nii.gz','../Nifti/LV6_Appraisal.nii.gz', 6)"
   ]
  },
  {
   "cell_type": "code",
   "execution_count": 28,
   "id": "4e437386",
   "metadata": {},
   "outputs": [
    {
     "name": "stdout",
     "output_type": "stream",
     "text": [
      "Correlation coefficient for the LV 7: PearsonRResult(statistic=-0.11486147566082908, pvalue=0.0)\n"
     ]
    }
   ],
   "source": [
    "corr_brain_maps('../Nifti/LV7_Discrete.nii.gz','../Nifti/LV7_Appraisal.nii.gz', 7)"
   ]
  },
  {
   "cell_type": "code",
   "execution_count": 29,
   "id": "80a3ff6d",
   "metadata": {},
   "outputs": [
    {
     "name": "stdout",
     "output_type": "stream",
     "text": [
      "Correlation coefficient for the LV 8: PearsonRResult(statistic=0.06821074491248062, pvalue=0.0)\n"
     ]
    }
   ],
   "source": [
    "corr_brain_maps('../Nifti/LV8_Discrete.nii.gz','../Nifti/LV8_Appraisal.nii.gz', 8)"
   ]
  },
  {
   "cell_type": "markdown",
   "id": "71a28ece",
   "metadata": {},
   "source": [
    "## II- Discrete Behavior saliences"
   ]
  },
  {
   "cell_type": "code",
   "execution_count": 6,
   "id": "52076cb1",
   "metadata": {},
   "outputs": [],
   "source": [
    "pls_Discrete_brain = pd.read_pickle(r\"../pkl/pls_res_Discrete.pkl\")"
   ]
  },
  {
   "cell_type": "code",
   "execution_count": 7,
   "id": "bae8bbeb",
   "metadata": {},
   "outputs": [],
   "source": [
    "pls_Discrete_App = pd.read_pickle(\"../pkl/Discrete_Appraisal_PLS.pkl\")"
   ]
  },
  {
   "cell_type": "code",
   "execution_count": 35,
   "id": "8f677b20",
   "metadata": {},
   "outputs": [],
   "source": [
    "df2=pls_Discrete_brain['U']"
   ]
  },
  {
   "cell_type": "code",
   "execution_count": 36,
   "id": "2ee63123",
   "metadata": {
    "scrolled": true
   },
   "outputs": [],
   "source": [
    "df1=pls_Discrete_App['V']"
   ]
  },
  {
   "cell_type": "code",
   "execution_count": 43,
   "id": "7d7e1176",
   "metadata": {
    "scrolled": true
   },
   "outputs": [
    {
     "data": {
      "text/html": [
       "<div>\n",
       "<style scoped>\n",
       "    .dataframe tbody tr th:only-of-type {\n",
       "        vertical-align: middle;\n",
       "    }\n",
       "\n",
       "    .dataframe tbody tr th {\n",
       "        vertical-align: top;\n",
       "    }\n",
       "\n",
       "    .dataframe thead th {\n",
       "        text-align: right;\n",
       "    }\n",
       "</style>\n",
       "<table border=\"1\" class=\"dataframe\">\n",
       "  <thead>\n",
       "    <tr style=\"text-align: right;\">\n",
       "      <th></th>\n",
       "      <th>0</th>\n",
       "      <th>1</th>\n",
       "      <th>2</th>\n",
       "      <th>3</th>\n",
       "      <th>4</th>\n",
       "      <th>5</th>\n",
       "      <th>6</th>\n",
       "      <th>7</th>\n",
       "      <th>8</th>\n",
       "      <th>9</th>\n",
       "      <th>10</th>\n",
       "      <th>11</th>\n",
       "      <th>12</th>\n",
       "    </tr>\n",
       "  </thead>\n",
       "  <tbody>\n",
       "    <tr>\n",
       "      <th>0</th>\n",
       "      <td>-0.346979</td>\n",
       "      <td>0.363111</td>\n",
       "      <td>-0.261274</td>\n",
       "      <td>0.384521</td>\n",
       "      <td>0.034188</td>\n",
       "      <td>-0.241619</td>\n",
       "      <td>0.077131</td>\n",
       "      <td>-0.110210</td>\n",
       "      <td>0.255500</td>\n",
       "      <td>-0.292226</td>\n",
       "      <td>0.328095</td>\n",
       "      <td>0.355135</td>\n",
       "      <td>0.263719</td>\n",
       "    </tr>\n",
       "    <tr>\n",
       "      <th>1</th>\n",
       "      <td>-0.350545</td>\n",
       "      <td>0.039004</td>\n",
       "      <td>-0.246437</td>\n",
       "      <td>0.037459</td>\n",
       "      <td>0.331509</td>\n",
       "      <td>-0.159394</td>\n",
       "      <td>0.109408</td>\n",
       "      <td>-0.101553</td>\n",
       "      <td>0.116564</td>\n",
       "      <td>0.500000</td>\n",
       "      <td>-0.122446</td>\n",
       "      <td>0.091822</td>\n",
       "      <td>-0.607341</td>\n",
       "    </tr>\n",
       "    <tr>\n",
       "      <th>2</th>\n",
       "      <td>0.249730</td>\n",
       "      <td>-0.013493</td>\n",
       "      <td>-0.490094</td>\n",
       "      <td>0.240397</td>\n",
       "      <td>-0.414075</td>\n",
       "      <td>0.007731</td>\n",
       "      <td>-0.068393</td>\n",
       "      <td>0.109854</td>\n",
       "      <td>-0.260148</td>\n",
       "      <td>0.108612</td>\n",
       "      <td>0.487254</td>\n",
       "      <td>-0.231833</td>\n",
       "      <td>-0.283849</td>\n",
       "    </tr>\n",
       "    <tr>\n",
       "      <th>3</th>\n",
       "      <td>-0.328584</td>\n",
       "      <td>-0.160804</td>\n",
       "      <td>0.085842</td>\n",
       "      <td>0.222590</td>\n",
       "      <td>-0.212070</td>\n",
       "      <td>0.204547</td>\n",
       "      <td>-0.670203</td>\n",
       "      <td>0.060865</td>\n",
       "      <td>0.457079</td>\n",
       "      <td>0.002845</td>\n",
       "      <td>-0.058895</td>\n",
       "      <td>-0.227192</td>\n",
       "      <td>-0.074533</td>\n",
       "    </tr>\n",
       "    <tr>\n",
       "      <th>4</th>\n",
       "      <td>0.281473</td>\n",
       "      <td>0.101995</td>\n",
       "      <td>0.055809</td>\n",
       "      <td>0.263245</td>\n",
       "      <td>-0.378946</td>\n",
       "      <td>-0.003416</td>\n",
       "      <td>-0.170325</td>\n",
       "      <td>-0.435930</td>\n",
       "      <td>-0.121685</td>\n",
       "      <td>-0.044107</td>\n",
       "      <td>-0.424582</td>\n",
       "      <td>0.475599</td>\n",
       "      <td>-0.228219</td>\n",
       "    </tr>\n",
       "    <tr>\n",
       "      <th>5</th>\n",
       "      <td>-0.240538</td>\n",
       "      <td>-0.323130</td>\n",
       "      <td>0.084450</td>\n",
       "      <td>-0.431851</td>\n",
       "      <td>-0.300728</td>\n",
       "      <td>-0.262093</td>\n",
       "      <td>-0.197421</td>\n",
       "      <td>-0.135570</td>\n",
       "      <td>-0.118899</td>\n",
       "      <td>0.338081</td>\n",
       "      <td>0.326546</td>\n",
       "      <td>0.391687</td>\n",
       "      <td>0.197813</td>\n",
       "    </tr>\n",
       "    <tr>\n",
       "      <th>6</th>\n",
       "      <td>0.217397</td>\n",
       "      <td>-0.470002</td>\n",
       "      <td>-0.190553</td>\n",
       "      <td>-0.118535</td>\n",
       "      <td>0.439217</td>\n",
       "      <td>-0.060766</td>\n",
       "      <td>-0.260964</td>\n",
       "      <td>-0.101499</td>\n",
       "      <td>0.036482</td>\n",
       "      <td>-0.502510</td>\n",
       "      <td>0.180218</td>\n",
       "      <td>0.217087</td>\n",
       "      <td>-0.270212</td>\n",
       "    </tr>\n",
       "    <tr>\n",
       "      <th>7</th>\n",
       "      <td>-0.256989</td>\n",
       "      <td>-0.184847</td>\n",
       "      <td>0.020733</td>\n",
       "      <td>0.016771</td>\n",
       "      <td>-0.251860</td>\n",
       "      <td>-0.689677</td>\n",
       "      <td>0.098731</td>\n",
       "      <td>0.057538</td>\n",
       "      <td>-0.150667</td>\n",
       "      <td>-0.342246</td>\n",
       "      <td>-0.292816</td>\n",
       "      <td>-0.326934</td>\n",
       "      <td>-0.120296</td>\n",
       "    </tr>\n",
       "    <tr>\n",
       "      <th>8</th>\n",
       "      <td>0.265714</td>\n",
       "      <td>-0.100296</td>\n",
       "      <td>0.078053</td>\n",
       "      <td>0.295901</td>\n",
       "      <td>0.293360</td>\n",
       "      <td>-0.316037</td>\n",
       "      <td>-0.150114</td>\n",
       "      <td>-0.538611</td>\n",
       "      <td>0.010173</td>\n",
       "      <td>0.304521</td>\n",
       "      <td>0.097568</td>\n",
       "      <td>-0.357070</td>\n",
       "      <td>0.311859</td>\n",
       "    </tr>\n",
       "    <tr>\n",
       "      <th>9</th>\n",
       "      <td>0.371635</td>\n",
       "      <td>-0.155423</td>\n",
       "      <td>0.019063</td>\n",
       "      <td>-0.120983</td>\n",
       "      <td>-0.261156</td>\n",
       "      <td>-0.162517</td>\n",
       "      <td>0.368844</td>\n",
       "      <td>-0.001995</td>\n",
       "      <td>0.759303</td>\n",
       "      <td>0.058529</td>\n",
       "      <td>0.062553</td>\n",
       "      <td>0.011610</td>\n",
       "      <td>-0.089739</td>\n",
       "    </tr>\n",
       "    <tr>\n",
       "      <th>10</th>\n",
       "      <td>-0.279935</td>\n",
       "      <td>-0.597960</td>\n",
       "      <td>0.104276</td>\n",
       "      <td>0.415808</td>\n",
       "      <td>-0.083516</td>\n",
       "      <td>0.345534</td>\n",
       "      <td>0.460222</td>\n",
       "      <td>-0.163254</td>\n",
       "      <td>-0.098420</td>\n",
       "      <td>-0.017665</td>\n",
       "      <td>0.046394</td>\n",
       "      <td>0.038071</td>\n",
       "      <td>0.043410</td>\n",
       "    </tr>\n",
       "    <tr>\n",
       "      <th>11</th>\n",
       "      <td>0.144868</td>\n",
       "      <td>-0.279929</td>\n",
       "      <td>-0.480036</td>\n",
       "      <td>0.185326</td>\n",
       "      <td>0.078176</td>\n",
       "      <td>-0.106966</td>\n",
       "      <td>-0.085907</td>\n",
       "      <td>0.434233</td>\n",
       "      <td>0.019729</td>\n",
       "      <td>0.232305</td>\n",
       "      <td>-0.409493</td>\n",
       "      <td>0.208017</td>\n",
       "      <td>0.396322</td>\n",
       "    </tr>\n",
       "    <tr>\n",
       "      <th>12</th>\n",
       "      <td>-0.167134</td>\n",
       "      <td>0.023876</td>\n",
       "      <td>-0.573317</td>\n",
       "      <td>-0.404775</td>\n",
       "      <td>-0.121531</td>\n",
       "      <td>0.262939</td>\n",
       "      <td>0.068047</td>\n",
       "      <td>-0.484174</td>\n",
       "      <td>0.069560</td>\n",
       "      <td>-0.128335</td>\n",
       "      <td>-0.219281</td>\n",
       "      <td>-0.232607</td>\n",
       "      <td>0.180278</td>\n",
       "    </tr>\n",
       "  </tbody>\n",
       "</table>\n",
       "</div>"
      ],
      "text/plain": [
       "          0         1         2         3         4         5         6   \\\n",
       "0  -0.346979  0.363111 -0.261274  0.384521  0.034188 -0.241619  0.077131   \n",
       "1  -0.350545  0.039004 -0.246437  0.037459  0.331509 -0.159394  0.109408   \n",
       "2   0.249730 -0.013493 -0.490094  0.240397 -0.414075  0.007731 -0.068393   \n",
       "3  -0.328584 -0.160804  0.085842  0.222590 -0.212070  0.204547 -0.670203   \n",
       "4   0.281473  0.101995  0.055809  0.263245 -0.378946 -0.003416 -0.170325   \n",
       "5  -0.240538 -0.323130  0.084450 -0.431851 -0.300728 -0.262093 -0.197421   \n",
       "6   0.217397 -0.470002 -0.190553 -0.118535  0.439217 -0.060766 -0.260964   \n",
       "7  -0.256989 -0.184847  0.020733  0.016771 -0.251860 -0.689677  0.098731   \n",
       "8   0.265714 -0.100296  0.078053  0.295901  0.293360 -0.316037 -0.150114   \n",
       "9   0.371635 -0.155423  0.019063 -0.120983 -0.261156 -0.162517  0.368844   \n",
       "10 -0.279935 -0.597960  0.104276  0.415808 -0.083516  0.345534  0.460222   \n",
       "11  0.144868 -0.279929 -0.480036  0.185326  0.078176 -0.106966 -0.085907   \n",
       "12 -0.167134  0.023876 -0.573317 -0.404775 -0.121531  0.262939  0.068047   \n",
       "\n",
       "          7         8         9         10        11        12  \n",
       "0  -0.110210  0.255500 -0.292226  0.328095  0.355135  0.263719  \n",
       "1  -0.101553  0.116564  0.500000 -0.122446  0.091822 -0.607341  \n",
       "2   0.109854 -0.260148  0.108612  0.487254 -0.231833 -0.283849  \n",
       "3   0.060865  0.457079  0.002845 -0.058895 -0.227192 -0.074533  \n",
       "4  -0.435930 -0.121685 -0.044107 -0.424582  0.475599 -0.228219  \n",
       "5  -0.135570 -0.118899  0.338081  0.326546  0.391687  0.197813  \n",
       "6  -0.101499  0.036482 -0.502510  0.180218  0.217087 -0.270212  \n",
       "7   0.057538 -0.150667 -0.342246 -0.292816 -0.326934 -0.120296  \n",
       "8  -0.538611  0.010173  0.304521  0.097568 -0.357070  0.311859  \n",
       "9  -0.001995  0.759303  0.058529  0.062553  0.011610 -0.089739  \n",
       "10 -0.163254 -0.098420 -0.017665  0.046394  0.038071  0.043410  \n",
       "11  0.434233  0.019729  0.232305 -0.409493  0.208017  0.396322  \n",
       "12 -0.484174  0.069560 -0.128335 -0.219281 -0.232607  0.180278  "
      ]
     },
     "execution_count": 43,
     "metadata": {},
     "output_type": "execute_result"
    }
   ],
   "source": [
    "df2"
   ]
  },
  {
   "cell_type": "code",
   "execution_count": 54,
   "id": "3420de23",
   "metadata": {
    "scrolled": true
   },
   "outputs": [
    {
     "data": {
      "text/html": [
       "<div>\n",
       "<style scoped>\n",
       "    .dataframe tbody tr th:only-of-type {\n",
       "        vertical-align: middle;\n",
       "    }\n",
       "\n",
       "    .dataframe tbody tr th {\n",
       "        vertical-align: top;\n",
       "    }\n",
       "\n",
       "    .dataframe thead th {\n",
       "        text-align: right;\n",
       "    }\n",
       "</style>\n",
       "<table border=\"1\" class=\"dataframe\">\n",
       "  <thead>\n",
       "    <tr style=\"text-align: right;\">\n",
       "      <th></th>\n",
       "      <th>0</th>\n",
       "      <th>1</th>\n",
       "      <th>2</th>\n",
       "      <th>3</th>\n",
       "      <th>4</th>\n",
       "      <th>5</th>\n",
       "      <th>6</th>\n",
       "      <th>7</th>\n",
       "      <th>8</th>\n",
       "      <th>9</th>\n",
       "    </tr>\n",
       "  </thead>\n",
       "  <tbody>\n",
       "    <tr>\n",
       "      <th>0</th>\n",
       "      <td>0.270746</td>\n",
       "      <td>-0.192875</td>\n",
       "      <td>0.151788</td>\n",
       "      <td>0.524230</td>\n",
       "      <td>0.139007</td>\n",
       "      <td>0.248507</td>\n",
       "      <td>-0.208662</td>\n",
       "      <td>0.046404</td>\n",
       "      <td>-0.371427</td>\n",
       "      <td>0.207659</td>\n",
       "    </tr>\n",
       "    <tr>\n",
       "      <th>1</th>\n",
       "      <td>0.348194</td>\n",
       "      <td>0.026096</td>\n",
       "      <td>-0.094972</td>\n",
       "      <td>0.309020</td>\n",
       "      <td>0.001344</td>\n",
       "      <td>0.037752</td>\n",
       "      <td>-0.558788</td>\n",
       "      <td>-0.005376</td>\n",
       "      <td>0.532359</td>\n",
       "      <td>0.165912</td>\n",
       "    </tr>\n",
       "    <tr>\n",
       "      <th>2</th>\n",
       "      <td>-0.268466</td>\n",
       "      <td>0.236029</td>\n",
       "      <td>0.090205</td>\n",
       "      <td>0.321803</td>\n",
       "      <td>0.316213</td>\n",
       "      <td>-0.334412</td>\n",
       "      <td>0.068451</td>\n",
       "      <td>0.287425</td>\n",
       "      <td>-0.194225</td>\n",
       "      <td>0.370981</td>\n",
       "    </tr>\n",
       "    <tr>\n",
       "      <th>3</th>\n",
       "      <td>0.294248</td>\n",
       "      <td>-0.113536</td>\n",
       "      <td>0.293502</td>\n",
       "      <td>0.242426</td>\n",
       "      <td>0.078467</td>\n",
       "      <td>-0.018044</td>\n",
       "      <td>0.691447</td>\n",
       "      <td>0.017640</td>\n",
       "      <td>0.246415</td>\n",
       "      <td>0.187496</td>\n",
       "    </tr>\n",
       "    <tr>\n",
       "      <th>4</th>\n",
       "      <td>-0.347434</td>\n",
       "      <td>-0.077717</td>\n",
       "      <td>0.396503</td>\n",
       "      <td>0.086852</td>\n",
       "      <td>-0.024282</td>\n",
       "      <td>-0.189320</td>\n",
       "      <td>-0.328309</td>\n",
       "      <td>-0.265528</td>\n",
       "      <td>-0.195063</td>\n",
       "      <td>-0.048731</td>\n",
       "    </tr>\n",
       "    <tr>\n",
       "      <th>5</th>\n",
       "      <td>0.306207</td>\n",
       "      <td>0.420936</td>\n",
       "      <td>0.060119</td>\n",
       "      <td>-0.122040</td>\n",
       "      <td>-0.463813</td>\n",
       "      <td>-0.011131</td>\n",
       "      <td>-0.041766</td>\n",
       "      <td>0.468807</td>\n",
       "      <td>-0.065143</td>\n",
       "      <td>0.063139</td>\n",
       "    </tr>\n",
       "    <tr>\n",
       "      <th>6</th>\n",
       "      <td>-0.218436</td>\n",
       "      <td>0.465503</td>\n",
       "      <td>-0.252135</td>\n",
       "      <td>-0.085527</td>\n",
       "      <td>0.011197</td>\n",
       "      <td>0.014644</td>\n",
       "      <td>-0.022172</td>\n",
       "      <td>-0.063820</td>\n",
       "      <td>-0.019206</td>\n",
       "      <td>0.524683</td>\n",
       "    </tr>\n",
       "    <tr>\n",
       "      <th>7</th>\n",
       "      <td>0.307734</td>\n",
       "      <td>0.373345</td>\n",
       "      <td>0.342508</td>\n",
       "      <td>0.099525</td>\n",
       "      <td>-0.328149</td>\n",
       "      <td>-0.257899</td>\n",
       "      <td>0.019460</td>\n",
       "      <td>-0.459303</td>\n",
       "      <td>-0.239090</td>\n",
       "      <td>-0.106925</td>\n",
       "    </tr>\n",
       "    <tr>\n",
       "      <th>8</th>\n",
       "      <td>-0.328618</td>\n",
       "      <td>0.059158</td>\n",
       "      <td>0.284255</td>\n",
       "      <td>0.236704</td>\n",
       "      <td>-0.242177</td>\n",
       "      <td>0.348849</td>\n",
       "      <td>-0.022941</td>\n",
       "      <td>0.485837</td>\n",
       "      <td>-0.019690</td>\n",
       "      <td>-0.302128</td>\n",
       "    </tr>\n",
       "    <tr>\n",
       "      <th>9</th>\n",
       "      <td>-0.253998</td>\n",
       "      <td>0.239327</td>\n",
       "      <td>0.158401</td>\n",
       "      <td>0.067872</td>\n",
       "      <td>-0.099325</td>\n",
       "      <td>0.654736</td>\n",
       "      <td>0.111886</td>\n",
       "      <td>-0.384316</td>\n",
       "      <td>0.202503</td>\n",
       "      <td>0.188788</td>\n",
       "    </tr>\n",
       "    <tr>\n",
       "      <th>10</th>\n",
       "      <td>0.205107</td>\n",
       "      <td>0.213503</td>\n",
       "      <td>0.522459</td>\n",
       "      <td>-0.479077</td>\n",
       "      <td>0.569854</td>\n",
       "      <td>0.148519</td>\n",
       "      <td>-0.171740</td>\n",
       "      <td>0.134095</td>\n",
       "      <td>0.064390</td>\n",
       "      <td>-0.018303</td>\n",
       "    </tr>\n",
       "    <tr>\n",
       "      <th>11</th>\n",
       "      <td>-0.129324</td>\n",
       "      <td>0.426076</td>\n",
       "      <td>-0.066128</td>\n",
       "      <td>0.358110</td>\n",
       "      <td>0.260148</td>\n",
       "      <td>-0.209853</td>\n",
       "      <td>0.057555</td>\n",
       "      <td>-0.045317</td>\n",
       "      <td>0.361543</td>\n",
       "      <td>-0.500984</td>\n",
       "    </tr>\n",
       "    <tr>\n",
       "      <th>12</th>\n",
       "      <td>0.242107</td>\n",
       "      <td>0.257507</td>\n",
       "      <td>-0.385642</td>\n",
       "      <td>0.096496</td>\n",
       "      <td>0.300138</td>\n",
       "      <td>0.324806</td>\n",
       "      <td>0.071956</td>\n",
       "      <td>-0.076190</td>\n",
       "      <td>-0.451788</td>\n",
       "      <td>-0.291960</td>\n",
       "    </tr>\n",
       "  </tbody>\n",
       "</table>\n",
       "</div>"
      ],
      "text/plain": [
       "           0         1         2         3         4         5         6  \\\n",
       "0   0.270746 -0.192875  0.151788  0.524230  0.139007  0.248507 -0.208662   \n",
       "1   0.348194  0.026096 -0.094972  0.309020  0.001344  0.037752 -0.558788   \n",
       "2  -0.268466  0.236029  0.090205  0.321803  0.316213 -0.334412  0.068451   \n",
       "3   0.294248 -0.113536  0.293502  0.242426  0.078467 -0.018044  0.691447   \n",
       "4  -0.347434 -0.077717  0.396503  0.086852 -0.024282 -0.189320 -0.328309   \n",
       "5   0.306207  0.420936  0.060119 -0.122040 -0.463813 -0.011131 -0.041766   \n",
       "6  -0.218436  0.465503 -0.252135 -0.085527  0.011197  0.014644 -0.022172   \n",
       "7   0.307734  0.373345  0.342508  0.099525 -0.328149 -0.257899  0.019460   \n",
       "8  -0.328618  0.059158  0.284255  0.236704 -0.242177  0.348849 -0.022941   \n",
       "9  -0.253998  0.239327  0.158401  0.067872 -0.099325  0.654736  0.111886   \n",
       "10  0.205107  0.213503  0.522459 -0.479077  0.569854  0.148519 -0.171740   \n",
       "11 -0.129324  0.426076 -0.066128  0.358110  0.260148 -0.209853  0.057555   \n",
       "12  0.242107  0.257507 -0.385642  0.096496  0.300138  0.324806  0.071956   \n",
       "\n",
       "           7         8         9  \n",
       "0   0.046404 -0.371427  0.207659  \n",
       "1  -0.005376  0.532359  0.165912  \n",
       "2   0.287425 -0.194225  0.370981  \n",
       "3   0.017640  0.246415  0.187496  \n",
       "4  -0.265528 -0.195063 -0.048731  \n",
       "5   0.468807 -0.065143  0.063139  \n",
       "6  -0.063820 -0.019206  0.524683  \n",
       "7  -0.459303 -0.239090 -0.106925  \n",
       "8   0.485837 -0.019690 -0.302128  \n",
       "9  -0.384316  0.202503  0.188788  \n",
       "10  0.134095  0.064390 -0.018303  \n",
       "11 -0.045317  0.361543 -0.500984  \n",
       "12 -0.076190 -0.451788 -0.291960  "
      ]
     },
     "execution_count": 54,
     "metadata": {},
     "output_type": "execute_result"
    }
   ],
   "source": [
    "df1"
   ]
  },
  {
   "cell_type": "code",
   "execution_count": 74,
   "id": "32e65fce",
   "metadata": {},
   "outputs": [
    {
     "name": "stdout",
     "output_type": "stream",
     "text": [
      "Correlation bewteen LV 1 1st matrix & LV 1 2nd Mat : [0.976 0.   ]\n",
      "Correlation bewteen LV 1 1st matrix & LV 2 2nd Mat : [-0.034  0.913]\n",
      "Correlation bewteen LV 1 1st matrix & LV 3 2nd Mat : [-0.032  0.916]\n",
      "Correlation bewteen LV 1 1st matrix & LV 4 2nd Mat : [0.22 0.47]\n",
      "Correlation bewteen LV 1 1st matrix & LV 5 2nd Mat : [0.02  0.948]\n",
      "Correlation bewteen LV 1 1st matrix & LV 6 2nd Mat : [0.009 0.977]\n",
      "Correlation bewteen LV 1 1st matrix & LV 7 2nd Mat : [-0.059  0.849]\n",
      "Correlation bewteen LV 1 1st matrix & LV 8 2nd Mat : [-0.099  0.749]\n",
      "Correlation bewteen LV 1 1st matrix & LV 9 2nd Mat : [-0.033  0.915]\n",
      "Correlation bewteen LV 1 1st matrix & LV 10 2nd Mat : [-0.003  0.992]\n",
      "Correlation bewteen LV 1 1st matrix & LV 11 2nd Mat : [0.023 0.941]\n",
      "Correlation bewteen LV 1 1st matrix & LV 12 2nd Mat : [0.045 0.884]\n",
      "Correlation bewteen LV 1 1st matrix & LV 13 2nd Mat : [-0.007  0.982]\n",
      "Correlation bewteen LV 2 1st matrix & LV 1 2nd Mat : [-0.236  0.437]\n",
      "Correlation bewteen LV 2 1st matrix & LV 2 2nd Mat : [0.682 0.01 ]\n",
      "Correlation bewteen LV 2 1st matrix & LV 3 2nd Mat : [0.197 0.52 ]\n",
      "Correlation bewteen LV 2 1st matrix & LV 4 2nd Mat : [0.57  0.042]\n",
      "Correlation bewteen LV 2 1st matrix & LV 5 2nd Mat : [-0.044  0.886]\n",
      "Correlation bewteen LV 2 1st matrix & LV 6 2nd Mat : [0.173 0.573]\n",
      "Correlation bewteen LV 2 1st matrix & LV 7 2nd Mat : [-0.168  0.582]\n",
      "Correlation bewteen LV 2 1st matrix & LV 8 2nd Mat : [-0.335  0.263]\n",
      "Correlation bewteen LV 2 1st matrix & LV 9 2nd Mat : [0.309 0.305]\n",
      "Correlation bewteen LV 2 1st matrix & LV 10 2nd Mat : [0.087 0.778]\n",
      "Correlation bewteen LV 2 1st matrix & LV 11 2nd Mat : [0.    0.999]\n",
      "Correlation bewteen LV 2 1st matrix & LV 12 2nd Mat : [0.058 0.851]\n",
      "Correlation bewteen LV 2 1st matrix & LV 13 2nd Mat : [-0.101  0.742]\n",
      "Correlation bewteen LV 3 1st matrix & LV 1 2nd Mat : [0.05  0.871]\n",
      "Correlation bewteen LV 3 1st matrix & LV 2 2nd Mat : [0.093 0.762]\n",
      "Correlation bewteen LV 3 1st matrix & LV 3 2nd Mat : [-0.744  0.004]\n",
      "Correlation bewteen LV 3 1st matrix & LV 4 2nd Mat : [-0.65   0.016]\n",
      "Correlation bewteen LV 3 1st matrix & LV 5 2nd Mat : [0.4   0.176]\n",
      "Correlation bewteen LV 3 1st matrix & LV 6 2nd Mat : [0.107 0.728]\n",
      "Correlation bewteen LV 3 1st matrix & LV 7 2nd Mat : [-0.114  0.711]\n",
      "Correlation bewteen LV 3 1st matrix & LV 8 2nd Mat : [0.039 0.899]\n",
      "Correlation bewteen LV 3 1st matrix & LV 9 2nd Mat : [0.053 0.863]\n",
      "Correlation bewteen LV 3 1st matrix & LV 10 2nd Mat : [-0.029  0.924]\n",
      "Correlation bewteen LV 3 1st matrix & LV 11 2nd Mat : [0.036 0.906]\n",
      "Correlation bewteen LV 3 1st matrix & LV 12 2nd Mat : [0.054 0.862]\n",
      "Correlation bewteen LV 3 1st matrix & LV 13 2nd Mat : [-0.036  0.908]\n",
      "Correlation bewteen LV 4 1st matrix & LV 1 2nd Mat : [-0.039  0.9  ]\n",
      "Correlation bewteen LV 4 1st matrix & LV 2 2nd Mat : [-0.783  0.002]\n",
      "Correlation bewteen LV 4 1st matrix & LV 3 2nd Mat : [0.475 0.101]\n",
      "Correlation bewteen LV 4 1st matrix & LV 4 2nd Mat : [-0.23  0.45]\n",
      "Correlation bewteen LV 4 1st matrix & LV 5 2nd Mat : [-0.108  0.727]\n",
      "Correlation bewteen LV 4 1st matrix & LV 6 2nd Mat : [0.321 0.285]\n",
      "Correlation bewteen LV 4 1st matrix & LV 7 2nd Mat : [0.306 0.309]\n",
      "Correlation bewteen LV 4 1st matrix & LV 8 2nd Mat : [-0.236  0.437]\n",
      "Correlation bewteen LV 4 1st matrix & LV 9 2nd Mat : [-0.203  0.506]\n",
      "Correlation bewteen LV 4 1st matrix & LV 10 2nd Mat : [-0.145  0.637]\n",
      "Correlation bewteen LV 4 1st matrix & LV 11 2nd Mat : [0.008 0.978]\n",
      "Correlation bewteen LV 4 1st matrix & LV 12 2nd Mat : [0.085 0.782]\n",
      "Correlation bewteen LV 4 1st matrix & LV 13 2nd Mat : [-0.057  0.854]\n",
      "Correlation bewteen LV 5 1st matrix & LV 1 2nd Mat : [0.061 0.844]\n",
      "Correlation bewteen LV 5 1st matrix & LV 2 2nd Mat : [0.07  0.821]\n",
      "Correlation bewteen LV 5 1st matrix & LV 3 2nd Mat : [0.491 0.089]\n",
      "Correlation bewteen LV 5 1st matrix & LV 4 2nd Mat : [-0.419  0.154]\n",
      "Correlation bewteen LV 5 1st matrix & LV 5 2nd Mat : [-0.02   0.949]\n",
      "Correlation bewteen LV 5 1st matrix & LV 6 2nd Mat : [-0.77   0.002]\n",
      "Correlation bewteen LV 5 1st matrix & LV 7 2nd Mat : [-0.279  0.357]\n",
      "Correlation bewteen LV 5 1st matrix & LV 8 2nd Mat : [-0.153  0.619]\n",
      "Correlation bewteen LV 5 1st matrix & LV 9 2nd Mat : [0.052 0.866]\n",
      "Correlation bewteen LV 5 1st matrix & LV 10 2nd Mat : [0.132 0.666]\n",
      "Correlation bewteen LV 5 1st matrix & LV 11 2nd Mat : [0.024 0.937]\n",
      "Correlation bewteen LV 5 1st matrix & LV 12 2nd Mat : [0.051 0.868]\n",
      "Correlation bewteen LV 5 1st matrix & LV 13 2nd Mat : [-0.017  0.955]\n",
      "Correlation bewteen LV 6 1st matrix & LV 1 2nd Mat : [-0.08   0.796]\n",
      "Correlation bewteen LV 6 1st matrix & LV 2 2nd Mat : [-0.079  0.797]\n",
      "Correlation bewteen LV 6 1st matrix & LV 3 2nd Mat : [-0.168  0.583]\n",
      "Correlation bewteen LV 6 1st matrix & LV 4 2nd Mat : [0.192 0.53 ]\n",
      "Correlation bewteen LV 6 1st matrix & LV 5 2nd Mat : [-0.234  0.442]\n",
      "Correlation bewteen LV 6 1st matrix & LV 6 2nd Mat : [-0.129  0.673]\n",
      "Correlation bewteen LV 6 1st matrix & LV 7 2nd Mat : [-0.397  0.179]\n",
      "Correlation bewteen LV 6 1st matrix & LV 8 2nd Mat : [0.423 0.149]\n",
      "Correlation bewteen LV 6 1st matrix & LV 9 2nd Mat : [-0.699  0.008]\n",
      "Correlation bewteen LV 6 1st matrix & LV 10 2nd Mat : [-0.035  0.91 ]\n",
      "Correlation bewteen LV 6 1st matrix & LV 11 2nd Mat : [-0.17   0.578]\n",
      "Correlation bewteen LV 6 1st matrix & LV 12 2nd Mat : [0.091 0.768]\n",
      "Correlation bewteen LV 6 1st matrix & LV 13 2nd Mat : [-0.262  0.388]\n",
      "Correlation bewteen LV 7 1st matrix & LV 1 2nd Mat : [-0.035  0.91 ]\n",
      "Correlation bewteen LV 7 1st matrix & LV 2 2nd Mat : [0.224 0.462]\n",
      "Correlation bewteen LV 7 1st matrix & LV 3 2nd Mat : [-0.079  0.797]\n",
      "Correlation bewteen LV 7 1st matrix & LV 4 2nd Mat : [0.085 0.783]\n",
      "Correlation bewteen LV 7 1st matrix & LV 5 2nd Mat : [0.302 0.315]\n",
      "Correlation bewteen LV 7 1st matrix & LV 6 2nd Mat : [-0.206  0.5  ]\n",
      "Correlation bewteen LV 7 1st matrix & LV 7 2nd Mat : [0.524 0.066]\n",
      "Correlation bewteen LV 7 1st matrix & LV 8 2nd Mat : [-0.301  0.318]\n",
      "Correlation bewteen LV 7 1st matrix & LV 9 2nd Mat : [-0.369  0.215]\n",
      "Correlation bewteen LV 7 1st matrix & LV 10 2nd Mat : [0.193 0.527]\n",
      "Correlation bewteen LV 7 1st matrix & LV 11 2nd Mat : [-0.066  0.829]\n",
      "Correlation bewteen LV 7 1st matrix & LV 12 2nd Mat : [0.478 0.098]\n",
      "Correlation bewteen LV 7 1st matrix & LV 13 2nd Mat : [-0.29   0.337]\n",
      "Correlation bewteen LV 8 1st matrix & LV 1 2nd Mat : [0.073 0.814]\n",
      "Correlation bewteen LV 8 1st matrix & LV 2 2nd Mat : [0.107 0.729]\n",
      "Correlation bewteen LV 8 1st matrix & LV 3 2nd Mat : [-0.008  0.98 ]\n",
      "Correlation bewteen LV 8 1st matrix & LV 4 2nd Mat : [-0.079  0.797]\n",
      "Correlation bewteen LV 8 1st matrix & LV 5 2nd Mat : [-0.176  0.565]\n",
      "Correlation bewteen LV 8 1st matrix & LV 6 2nd Mat : [-0.156  0.612]\n",
      "Correlation bewteen LV 8 1st matrix & LV 7 2nd Mat : [0.256 0.398]\n",
      "Correlation bewteen LV 8 1st matrix & LV 8 2nd Mat : [0.207 0.498]\n",
      "Correlation bewteen LV 8 1st matrix & LV 9 2nd Mat : [0.342 0.253]\n",
      "Correlation bewteen LV 8 1st matrix & LV 10 2nd Mat : [-0.496  0.085]\n",
      "Correlation bewteen LV 8 1st matrix & LV 11 2nd Mat : [-0.609  0.027]\n",
      "Correlation bewteen LV 8 1st matrix & LV 12 2nd Mat : [0.03  0.922]\n",
      "Correlation bewteen LV 8 1st matrix & LV 13 2nd Mat : [-0.323  0.282]\n",
      "Correlation bewteen LV 9 1st matrix & LV 1 2nd Mat : [-0.006  0.985]\n",
      "Correlation bewteen LV 9 1st matrix & LV 2 2nd Mat : [0.34  0.255]\n",
      "Correlation bewteen LV 9 1st matrix & LV 3 2nd Mat : [-0.16   0.602]\n",
      "Correlation bewteen LV 9 1st matrix & LV 4 2nd Mat : [-0.123  0.69 ]\n",
      "Correlation bewteen LV 9 1st matrix & LV 5 2nd Mat : [-0.357  0.231]\n",
      "Correlation bewteen LV 9 1st matrix & LV 6 2nd Mat : [-0.066  0.831]\n",
      "Correlation bewteen LV 9 1st matrix & LV 7 2nd Mat : [0.055 0.86 ]\n",
      "Correlation bewteen LV 9 1st matrix & LV 8 2nd Mat : [-0.459  0.115]\n",
      "Correlation bewteen LV 9 1st matrix & LV 9 2nd Mat : [-0.344  0.249]\n",
      "Correlation bewteen LV 9 1st matrix & LV 10 2nd Mat : [-0.583  0.036]\n",
      "Correlation bewteen LV 9 1st matrix & LV 11 2nd Mat : [0.204 0.505]\n",
      "Correlation bewteen LV 9 1st matrix & LV 12 2nd Mat : [-0.059  0.848]\n",
      "Correlation bewteen LV 9 1st matrix & LV 13 2nd Mat : [0.283 0.349]\n",
      "Correlation bewteen LV 10 1st matrix & LV 1 2nd Mat : [0.    0.999]\n",
      "Correlation bewteen LV 10 1st matrix & LV 2 2nd Mat : [0.001 0.997]\n",
      "Correlation bewteen LV 10 1st matrix & LV 3 2nd Mat : [-0.1    0.745]\n",
      "Correlation bewteen LV 10 1st matrix & LV 4 2nd Mat : [0.016 0.959]\n",
      "Correlation bewteen LV 10 1st matrix & LV 5 2nd Mat : [-0.015  0.962]\n",
      "Correlation bewteen LV 10 1st matrix & LV 6 2nd Mat : [-0.07   0.821]\n",
      "Correlation bewteen LV 10 1st matrix & LV 7 2nd Mat : [0.126 0.681]\n",
      "Correlation bewteen LV 10 1st matrix & LV 8 2nd Mat : [-0.112  0.715]\n",
      "Correlation bewteen LV 10 1st matrix & LV 9 2nd Mat : [-0.182  0.551]\n",
      "Correlation bewteen LV 10 1st matrix & LV 10 2nd Mat : [0.31  0.302]\n",
      "Correlation bewteen LV 10 1st matrix & LV 11 2nd Mat : [-0.64   0.018]\n",
      "Correlation bewteen LV 10 1st matrix & LV 12 2nd Mat : [-0.172  0.574]\n",
      "Correlation bewteen LV 10 1st matrix & LV 13 2nd Mat : [0.631 0.021]\n"
     ]
    }
   ],
   "source": [
    "for col in df1 :\n",
    "    \n",
    "    for col_ in df2 :\n",
    "        correlation = scipy.stats.pearsonr(np.array(-df1[col]), np.array(df2[col_]))\n",
    "        print(f\"Correlation bewteen LV {col+1} 1st matrix & LV {col_+1} 2nd Mat : {np.round(correlation,3)}\" )\n",
    "   "
   ]
  },
  {
   "cell_type": "markdown",
   "id": "ec52dc06",
   "metadata": {},
   "source": [
    "## Appraisal Behavior saliences"
   ]
  },
  {
   "cell_type": "code",
   "execution_count": 3,
   "id": "abd1d52a",
   "metadata": {},
   "outputs": [
    {
     "ename": "NameError",
     "evalue": "name 'pd' is not defined",
     "output_type": "error",
     "traceback": [
      "\u001b[0;31m---------------------------------------------------------------------------\u001b[0m",
      "\u001b[0;31mNameError\u001b[0m                                 Traceback (most recent call last)",
      "Cell \u001b[0;32mIn[3], line 1\u001b[0m\n\u001b[0;32m----> 1\u001b[0m pls_App_brain \u001b[38;5;241m=\u001b[39m \u001b[43mpd\u001b[49m\u001b[38;5;241m.\u001b[39mread_pickle(\u001b[38;5;124mr\u001b[39m\u001b[38;5;124m\"\u001b[39m\u001b[38;5;124m../pkl/pls_res_Appraisal.pkl\u001b[39m\u001b[38;5;124m\"\u001b[39m)\n",
      "\u001b[0;31mNameError\u001b[0m: name 'pd' is not defined"
     ]
    }
   ],
   "source": [
    "pls_App_brain = pd.read_pickle(r\"../pkl/pls_res_Appraisal.pkl\")"
   ]
  },
  {
   "cell_type": "code",
   "execution_count": 76,
   "id": "4539992e",
   "metadata": {},
   "outputs": [],
   "source": [
    "df2=pls_App_brain['U']"
   ]
  },
  {
   "cell_type": "code",
   "execution_count": 77,
   "id": "cf956848",
   "metadata": {},
   "outputs": [],
   "source": [
    "df1=pls_Discrete_App['U']"
   ]
  },
  {
   "cell_type": "code",
   "execution_count": 80,
   "id": "a082da38",
   "metadata": {},
   "outputs": [
    {
     "name": "stdout",
     "output_type": "stream",
     "text": [
      "Correlation bewteen LV 1 1st matrix & LV 1 2nd Mat : [0.965 0.   ]\n",
      "Correlation bewteen LV 1 1st matrix & LV 2 2nd Mat : [0.341 0.335]\n",
      "Correlation bewteen LV 1 1st matrix & LV 3 2nd Mat : [-0.244  0.496]\n",
      "Correlation bewteen LV 1 1st matrix & LV 4 2nd Mat : [0.207 0.566]\n",
      "Correlation bewteen LV 1 1st matrix & LV 5 2nd Mat : [0.049 0.892]\n",
      "Correlation bewteen LV 1 1st matrix & LV 6 2nd Mat : [0.254 0.479]\n",
      "Correlation bewteen LV 1 1st matrix & LV 7 2nd Mat : [-0.14   0.699]\n",
      "Correlation bewteen LV 1 1st matrix & LV 8 2nd Mat : [-0.197  0.586]\n",
      "Correlation bewteen LV 1 1st matrix & LV 9 2nd Mat : [0.078 0.831]\n",
      "Correlation bewteen LV 1 1st matrix & LV 10 2nd Mat : [0.144 0.692]\n",
      "Correlation bewteen LV 2 1st matrix & LV 1 2nd Mat : [0.409 0.241]\n",
      "Correlation bewteen LV 2 1st matrix & LV 2 2nd Mat : [0.294 0.41 ]\n",
      "Correlation bewteen LV 2 1st matrix & LV 3 2nd Mat : [0.308 0.386]\n",
      "Correlation bewteen LV 2 1st matrix & LV 4 2nd Mat : [0.602 0.066]\n",
      "Correlation bewteen LV 2 1st matrix & LV 5 2nd Mat : [0.519 0.124]\n",
      "Correlation bewteen LV 2 1st matrix & LV 6 2nd Mat : [0.255 0.476]\n",
      "Correlation bewteen LV 2 1st matrix & LV 7 2nd Mat : [0.074 0.838]\n",
      "Correlation bewteen LV 2 1st matrix & LV 8 2nd Mat : [0.006 0.987]\n",
      "Correlation bewteen LV 2 1st matrix & LV 9 2nd Mat : [-0.104  0.776]\n",
      "Correlation bewteen LV 2 1st matrix & LV 10 2nd Mat : [-0.178  0.622]\n",
      "Correlation bewteen LV 3 1st matrix & LV 1 2nd Mat : [0.436 0.208]\n",
      "Correlation bewteen LV 3 1st matrix & LV 2 2nd Mat : [0.362 0.303]\n",
      "Correlation bewteen LV 3 1st matrix & LV 3 2nd Mat : [0.213 0.555]\n",
      "Correlation bewteen LV 3 1st matrix & LV 4 2nd Mat : [-0.424  0.222]\n",
      "Correlation bewteen LV 3 1st matrix & LV 5 2nd Mat : [-0.659  0.038]\n",
      "Correlation bewteen LV 3 1st matrix & LV 6 2nd Mat : [0.255 0.476]\n",
      "Correlation bewteen LV 3 1st matrix & LV 7 2nd Mat : [-0.164  0.652]\n",
      "Correlation bewteen LV 3 1st matrix & LV 8 2nd Mat : [0.178 0.623]\n",
      "Correlation bewteen LV 3 1st matrix & LV 9 2nd Mat : [0.086 0.813]\n",
      "Correlation bewteen LV 3 1st matrix & LV 10 2nd Mat : [0.055 0.88 ]\n",
      "Correlation bewteen LV 4 1st matrix & LV 1 2nd Mat : [0.025 0.945]\n",
      "Correlation bewteen LV 4 1st matrix & LV 2 2nd Mat : [0.11  0.763]\n",
      "Correlation bewteen LV 4 1st matrix & LV 3 2nd Mat : [-0.861  0.001]\n",
      "Correlation bewteen LV 4 1st matrix & LV 4 2nd Mat : [0.248 0.49 ]\n",
      "Correlation bewteen LV 4 1st matrix & LV 5 2nd Mat : [-0.24   0.505]\n",
      "Correlation bewteen LV 4 1st matrix & LV 6 2nd Mat : [-0.162  0.656]\n",
      "Correlation bewteen LV 4 1st matrix & LV 7 2nd Mat : [-0.042  0.907]\n",
      "Correlation bewteen LV 4 1st matrix & LV 8 2nd Mat : [0.162 0.654]\n",
      "Correlation bewteen LV 4 1st matrix & LV 9 2nd Mat : [-0.282  0.43 ]\n",
      "Correlation bewteen LV 4 1st matrix & LV 10 2nd Mat : [-0.124  0.733]\n",
      "Correlation bewteen LV 5 1st matrix & LV 1 2nd Mat : [0.084 0.817]\n",
      "Correlation bewteen LV 5 1st matrix & LV 2 2nd Mat : [0.252 0.483]\n",
      "Correlation bewteen LV 5 1st matrix & LV 3 2nd Mat : [-0.127  0.726]\n",
      "Correlation bewteen LV 5 1st matrix & LV 4 2nd Mat : [-0.324  0.362]\n",
      "Correlation bewteen LV 5 1st matrix & LV 5 2nd Mat : [0.02  0.956]\n",
      "Correlation bewteen LV 5 1st matrix & LV 6 2nd Mat : [0.061 0.867]\n",
      "Correlation bewteen LV 5 1st matrix & LV 7 2nd Mat : [0.786 0.007]\n",
      "Correlation bewteen LV 5 1st matrix & LV 8 2nd Mat : [-0.464  0.177]\n",
      "Correlation bewteen LV 5 1st matrix & LV 9 2nd Mat : [-0.099  0.785]\n",
      "Correlation bewteen LV 5 1st matrix & LV 10 2nd Mat : [-0.189  0.601]\n",
      "Correlation bewteen LV 6 1st matrix & LV 1 2nd Mat : [-0.101  0.781]\n",
      "Correlation bewteen LV 6 1st matrix & LV 2 2nd Mat : [0.46  0.181]\n",
      "Correlation bewteen LV 6 1st matrix & LV 3 2nd Mat : [0.332 0.349]\n",
      "Correlation bewteen LV 6 1st matrix & LV 4 2nd Mat : [0.463 0.178]\n",
      "Correlation bewteen LV 6 1st matrix & LV 5 2nd Mat : [-0.405  0.245]\n",
      "Correlation bewteen LV 6 1st matrix & LV 6 2nd Mat : [-0.3  0.4]\n",
      "Correlation bewteen LV 6 1st matrix & LV 7 2nd Mat : [0.392 0.263]\n",
      "Correlation bewteen LV 6 1st matrix & LV 8 2nd Mat : [0.369 0.294]\n",
      "Correlation bewteen LV 6 1st matrix & LV 9 2nd Mat : [-0.159  0.661]\n",
      "Correlation bewteen LV 6 1st matrix & LV 10 2nd Mat : [-0.042  0.908]\n",
      "Correlation bewteen LV 7 1st matrix & LV 1 2nd Mat : [0.054 0.881]\n",
      "Correlation bewteen LV 7 1st matrix & LV 2 2nd Mat : [0.542 0.106]\n",
      "Correlation bewteen LV 7 1st matrix & LV 3 2nd Mat : [0.043 0.906]\n",
      "Correlation bewteen LV 7 1st matrix & LV 4 2nd Mat : [-0.22   0.541]\n",
      "Correlation bewteen LV 7 1st matrix & LV 5 2nd Mat : [0.18 0.62]\n",
      "Correlation bewteen LV 7 1st matrix & LV 6 2nd Mat : [-0.529  0.116]\n",
      "Correlation bewteen LV 7 1st matrix & LV 7 2nd Mat : [-0.326  0.357]\n",
      "Correlation bewteen LV 7 1st matrix & LV 8 2nd Mat : [-0.073  0.842]\n",
      "Correlation bewteen LV 7 1st matrix & LV 9 2nd Mat : [0.155 0.669]\n",
      "Correlation bewteen LV 7 1st matrix & LV 10 2nd Mat : [-0.614  0.059]\n",
      "Correlation bewteen LV 8 1st matrix & LV 1 2nd Mat : [-0.208  0.564]\n",
      "Correlation bewteen LV 8 1st matrix & LV 2 2nd Mat : [-0.033  0.928]\n",
      "Correlation bewteen LV 8 1st matrix & LV 3 2nd Mat : [0.061 0.867]\n",
      "Correlation bewteen LV 8 1st matrix & LV 4 2nd Mat : [-0.068  0.852]\n",
      "Correlation bewteen LV 8 1st matrix & LV 5 2nd Mat : [-0.039  0.916]\n",
      "Correlation bewteen LV 8 1st matrix & LV 6 2nd Mat : [0.625 0.053]\n",
      "Correlation bewteen LV 8 1st matrix & LV 7 2nd Mat : [-0.151  0.678]\n",
      "Correlation bewteen LV 8 1st matrix & LV 8 2nd Mat : [0.126 0.728]\n",
      "Correlation bewteen LV 8 1st matrix & LV 9 2nd Mat : [-0.507  0.135]\n",
      "Correlation bewteen LV 8 1st matrix & LV 10 2nd Mat : [-0.584  0.076]\n",
      "Correlation bewteen LV 9 1st matrix & LV 1 2nd Mat : [0.009 0.981]\n",
      "Correlation bewteen LV 9 1st matrix & LV 2 2nd Mat : [0.428 0.217]\n",
      "Correlation bewteen LV 9 1st matrix & LV 3 2nd Mat : [-0.095  0.793]\n",
      "Correlation bewteen LV 9 1st matrix & LV 4 2nd Mat : [-0.399  0.254]\n",
      "Correlation bewteen LV 9 1st matrix & LV 5 2nd Mat : [0.46  0.181]\n",
      "Correlation bewteen LV 9 1st matrix & LV 6 2nd Mat : [0.009 0.98 ]\n",
      "Correlation bewteen LV 9 1st matrix & LV 7 2nd Mat : [0.103 0.776]\n",
      "Correlation bewteen LV 9 1st matrix & LV 8 2nd Mat : [0.606 0.063]\n",
      "Correlation bewteen LV 9 1st matrix & LV 9 2nd Mat : [-0.247  0.492]\n",
      "Correlation bewteen LV 9 1st matrix & LV 10 2nd Mat : [0.342 0.333]\n",
      "Correlation bewteen LV 10 1st matrix & LV 1 2nd Mat : [0.076 0.834]\n",
      "Correlation bewteen LV 10 1st matrix & LV 2 2nd Mat : [0.05  0.891]\n",
      "Correlation bewteen LV 10 1st matrix & LV 3 2nd Mat : [0.204 0.572]\n",
      "Correlation bewteen LV 10 1st matrix & LV 4 2nd Mat : [-0.055  0.88 ]\n",
      "Correlation bewteen LV 10 1st matrix & LV 5 2nd Mat : [-0.044  0.903]\n",
      "Correlation bewteen LV 10 1st matrix & LV 6 2nd Mat : [-0.312  0.38 ]\n",
      "Correlation bewteen LV 10 1st matrix & LV 7 2nd Mat : [-0.251  0.483]\n",
      "Correlation bewteen LV 10 1st matrix & LV 8 2nd Mat : [-0.441  0.202]\n",
      "Correlation bewteen LV 10 1st matrix & LV 9 2nd Mat : [-0.742  0.014]\n",
      "Correlation bewteen LV 10 1st matrix & LV 10 2nd Mat : [0.309 0.385]\n"
     ]
    }
   ],
   "source": [
    "for col in df1 :\n",
    "    \n",
    "    for col_ in df2 :\n",
    "        correlation = scipy.stats.pearsonr(np.array(-df1[col]), np.array(df2[col_]))\n",
    "        print(f\"Correlation bewteen LV {col+1} 1st matrix & LV {col_+1} 2nd Mat : {np.round(correlation,3)}\" )\n",
    "   "
   ]
  },
  {
   "cell_type": "code",
   "execution_count": 73,
   "id": "e329f8a8",
   "metadata": {},
   "outputs": [
    {
     "name": "stdout",
     "output_type": "stream",
     "text": [
      "Correlation coefficient for the LV 1 & 1 PearsonRResult(statistic=-0.9653803867897164, pvalue=6.027113944939682e-06)\n"
     ]
    }
   ],
   "source": [
    "corr_behav_saliences(pls_App_brain['U'], pls_Discrete_App['U'], [0,0])"
   ]
  },
  {
   "cell_type": "code",
   "execution_count": 74,
   "id": "5e1b2747",
   "metadata": {},
   "outputs": [
    {
     "name": "stdout",
     "output_type": "stream",
     "text": [
      "Correlation coefficient for the LV 2 & 2 PearsonRResult(statistic=-0.29405280674450335, pvalue=0.4095524702014275)\n"
     ]
    }
   ],
   "source": [
    "corr_behav_saliences(pls_App_brain['U'], pls_Discrete_App['U'], [1,1])"
   ]
  },
  {
   "cell_type": "code",
   "execution_count": 75,
   "id": "21bbd5d5",
   "metadata": {},
   "outputs": [
    {
     "name": "stdout",
     "output_type": "stream",
     "text": [
      "Correlation coefficient for the LV 2 & 3 PearsonRResult(statistic=-0.36245815570121487, pvalue=0.3033337284805887)\n"
     ]
    }
   ],
   "source": [
    "corr_behav_saliences(pls_App_brain['U'], pls_Discrete_App['U'], [1,2])"
   ]
  },
  {
   "cell_type": "code",
   "execution_count": 76,
   "id": "918dad2b",
   "metadata": {},
   "outputs": [
    {
     "name": "stdout",
     "output_type": "stream",
     "text": [
      "Correlation coefficient for the LV 2 & 4 PearsonRResult(statistic=-0.10986923892995606, pvalue=0.7625412792202219)\n"
     ]
    }
   ],
   "source": [
    "corr_behav_saliences(pls_App_brain['U'], pls_Discrete_App['U'], [1,3])"
   ]
  },
  {
   "cell_type": "code",
   "execution_count": 77,
   "id": "baa30891",
   "metadata": {},
   "outputs": [
    {
     "name": "stdout",
     "output_type": "stream",
     "text": [
      "Correlation coefficient for the LV 2 & 5 PearsonRResult(statistic=-0.25182169597651066, pvalue=0.4827633106348407)\n"
     ]
    }
   ],
   "source": [
    "corr_behav_saliences(pls_App_brain['U'], pls_Discrete_App['U'], [1,4])"
   ]
  },
  {
   "cell_type": "code",
   "execution_count": 78,
   "id": "71c6d9e9",
   "metadata": {},
   "outputs": [
    {
     "name": "stdout",
     "output_type": "stream",
     "text": [
      "Correlation coefficient for the LV 2 & 6 PearsonRResult(statistic=-0.4603101376212419, pvalue=0.18066950779032837)\n"
     ]
    }
   ],
   "source": [
    "corr_behav_saliences(pls_App_brain['U'], pls_Discrete_App['U'], [1,5])"
   ]
  },
  {
   "cell_type": "code",
   "execution_count": 79,
   "id": "1d435d63",
   "metadata": {},
   "outputs": [
    {
     "name": "stdout",
     "output_type": "stream",
     "text": [
      "Correlation coefficient for the LV 2 & 7 PearsonRResult(statistic=-0.5415643032269668, pvalue=0.10590910176060353)\n"
     ]
    }
   ],
   "source": [
    "corr_behav_saliences(pls_App_brain['U'], pls_Discrete_App['U'], [1,6])"
   ]
  },
  {
   "cell_type": "code",
   "execution_count": 80,
   "id": "cbc627a7",
   "metadata": {},
   "outputs": [
    {
     "name": "stdout",
     "output_type": "stream",
     "text": [
      "Correlation coefficient for the LV 2 & 8 PearsonRResult(statistic=0.03290695828546522, pvalue=0.9280939272504741)\n"
     ]
    }
   ],
   "source": [
    "corr_behav_saliences(pls_App_brain['U'], pls_Discrete_App['U'], [1,7])"
   ]
  },
  {
   "cell_type": "code",
   "execution_count": 81,
   "id": "9ebbba8b",
   "metadata": {},
   "outputs": [
    {
     "name": "stdout",
     "output_type": "stream",
     "text": [
      "Correlation coefficient for the LV 2 & 9 PearsonRResult(statistic=-0.4280938716140549, pvalue=0.21711599493490602)\n"
     ]
    }
   ],
   "source": [
    "corr_behav_saliences(pls_App_brain['U'], pls_Discrete_App['U'], [1,8])"
   ]
  },
  {
   "cell_type": "code",
   "execution_count": 82,
   "id": "4e3f5edb",
   "metadata": {},
   "outputs": [
    {
     "name": "stdout",
     "output_type": "stream",
     "text": [
      "Correlation coefficient for the LV 2 & 10 PearsonRResult(statistic=-0.04995322888765252, pvalue=0.8909995746883175)\n"
     ]
    }
   ],
   "source": [
    "corr_behav_saliences(pls_App_brain['U'], pls_Discrete_App['U'], [1,9])"
   ]
  }
 ],
 "metadata": {
  "kernelspec": {
   "display_name": "Python 3 (ipykernel)",
   "language": "python",
   "name": "python3"
  },
  "language_info": {
   "codemirror_mode": {
    "name": "ipython",
    "version": 3
   },
   "file_extension": ".py",
   "mimetype": "text/x-python",
   "name": "python",
   "nbconvert_exporter": "python",
   "pygments_lexer": "ipython3",
   "version": "3.8.10"
  }
 },
 "nbformat": 4,
 "nbformat_minor": 5
}
